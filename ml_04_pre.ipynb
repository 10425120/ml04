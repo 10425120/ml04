{
 "cells": [
  {
   "cell_type": "code",
   "execution_count": 1,
   "metadata": {},
   "outputs": [],
   "source": [
    "import pandas as pd\n",
    "import matplotlib\n",
    "import numpy as np\n",
    "import matplotlib.pyplot as plt\n",
    "import jieba as jb\n",
    "import re\n",
    "from sklearn.feature_extraction.text import CountVectorizer, TfidfTransformer\n",
    "from sklearn.manifold import TSNE\n",
    "from sklearn.cluster import KMeans\n",
    "#rom data_utils import *\n",
    "import jieba\n",
    "import matplotlib.pyplot as plt\n"
   ]
  },
  {
   "cell_type": "markdown",
   "metadata": {},
   "source": [
    "# 讀取轉換完之file "
   ]
  },
  {
   "cell_type": "code",
   "execution_count": null,
   "metadata": {},
   "outputs": [],
   "source": [
    "df2 = pd.read_csv(r'C:\\Users\\Cai\\ML04\\train_ml.csv')\n",
    "df1= pd.read_csv(r'C:\\Users\\Cai\\ML04\\train.csv')\n",
    "#df=df[['cat','review']]\n",
    "\n",
    "df2=df2['0']\n",
    "df1=df1['label']"
   ]
  },
  {
   "cell_type": "markdown",
   "metadata": {},
   "source": [
    "# 使用jieba對中文文黨斷詞"
   ]
  },
  {
   "cell_type": "code",
   "execution_count": 2,
   "metadata": {},
   "outputs": [
    {
     "name": "stderr",
     "output_type": "stream",
     "text": [
      "Building prefix dict from the default dictionary ...\n",
      "Loading model from cache C:\\Users\\Cai\\AppData\\Local\\Temp\\jieba.cache\n",
      "Loading model cost 0.637 seconds.\n",
      "Prefix dict has been built successfully.\n"
     ]
    }
   ],
   "source": [
    "# bigram分词\n",
    "segment_bigram = lambda text: \" \".join([word + text[idx + 1] for idx, word in enumerate(text) if idx < len(text) - 1])\n",
    "# 结巴中文分词\n",
    "segment_jieba = lambda text: \" \".join(jieba.cut(text))\n",
    "\n",
    "'''\n",
    "    1、加载语料\n",
    "'''\n",
    "corpus = []\n",
    "#with open(\"train_ml.csv\", \"r\", encoding=\"utf-8\") as f:\n",
    "for line in df2:\n",
    "    # 去掉标点符号\n",
    "    corpus.append(segment_jieba(line.strip()))"
   ]
  },
  {
   "cell_type": "code",
   "execution_count": 3,
   "metadata": {},
   "outputs": [
    {
     "data": {
      "text/html": [
       "<div>\n",
       "<style scoped>\n",
       "    .dataframe tbody tr th:only-of-type {\n",
       "        vertical-align: middle;\n",
       "    }\n",
       "\n",
       "    .dataframe tbody tr th {\n",
       "        vertical-align: top;\n",
       "    }\n",
       "\n",
       "    .dataframe thead th {\n",
       "        text-align: right;\n",
       "    }\n",
       "</style>\n",
       "<table border=\"1\" class=\"dataframe\">\n",
       "  <thead>\n",
       "    <tr style=\"text-align: right;\">\n",
       "      <th></th>\n",
       "      <th>cat_id</th>\n",
       "      <th>review</th>\n",
       "      <th>cat</th>\n",
       "    </tr>\n",
       "  </thead>\n",
       "  <tbody>\n",
       "    <tr>\n",
       "      <th>0</th>\n",
       "      <td>7</td>\n",
       "      <td>e10 鋁圈 單後紅 夫人 英文 鳳姐 你 今兒 什麼 樣鳳姐 兒到 太太 只管 請 回去 ...</td>\n",
       "      <td>7</td>\n",
       "    </tr>\n",
       "    <tr>\n",
       "      <th>1</th>\n",
       "      <td>5</td>\n",
       "      <td>取締 酒後駕 車勤務 進行 呼氣質 酒測 時會議 警政署 訂 單取 締酒 後 駕車 作業 程...</td>\n",
       "      <td>5</td>\n",
       "    </tr>\n",
       "    <tr>\n",
       "      <th>2</th>\n",
       "      <td>4</td>\n",
       "      <td>致伸 縮喇家 在 五台山 跟師 父子 增長 老學會 說 因緣 經驗 你 可將 女兒 長 了 ...</td>\n",
       "      <td>4</td>\n",
       "    </tr>\n",
       "    <tr>\n",
       "      <th>3</th>\n",
       "      <td>1</td>\n",
       "      <td>寄 之 盲校 被叫 姊親 自去 接 又 叫 我 先 回公館裡 去 知道 我 就 先回去 了 ...</td>\n",
       "      <td>1</td>\n",
       "    </tr>\n",
       "    <tr>\n",
       "      <th>4</th>\n",
       "      <td>3</td>\n",
       "      <td>關於難 辭 其者 自身 也 為 孫權 所 砂石 半年 的 攻防 戰中數 中景 不 派兵 網雲...</td>\n",
       "      <td>3</td>\n",
       "    </tr>\n",
       "    <tr>\n",
       "      <th>...</th>\n",
       "      <td>...</td>\n",
       "      <td>...</td>\n",
       "      <td>...</td>\n",
       "    </tr>\n",
       "    <tr>\n",
       "      <th>924</th>\n",
       "      <td>3</td>\n",
       "      <td>10.28 天安 門 事件 2013 年 10 月 28 日 12   10   05 分 ...</td>\n",
       "      <td>3</td>\n",
       "    </tr>\n",
       "    <tr>\n",
       "      <th>925</th>\n",
       "      <td>3</td>\n",
       "      <td>不同 地方 對滅 火器 的 分類 稍 有 不同 但 基本上 都 是 按照 火 的 種類 分為...</td>\n",
       "      <td>3</td>\n",
       "    </tr>\n",
       "    <tr>\n",
       "      <th>926</th>\n",
       "      <td>2</td>\n",
       "      <td>董卓 時常 使 人 探 聽 是 日 獲得此 詩來 成 董卓 著樂 願望 作師 沙織 有名 1...</td>\n",
       "      <td>2</td>\n",
       "    </tr>\n",
       "    <tr>\n",
       "      <th>927</th>\n",
       "      <td>3</td>\n",
       "      <td>台灣 雨量 豐沛 大小 河川 1 部長 度 超過 100 公里 有 7 條一試 分別 是 濁...</td>\n",
       "      <td>3</td>\n",
       "    </tr>\n",
       "    <tr>\n",
       "      <th>928</th>\n",
       "      <td>3</td>\n",
       "      <td>天安 門 事件 是 指 在 不同 時期 發生 在 中國 北京 天安 門廣場 的 政治 事件 ...</td>\n",
       "      <td>3</td>\n",
       "    </tr>\n",
       "  </tbody>\n",
       "</table>\n",
       "<p>929 rows × 3 columns</p>\n",
       "</div>"
      ],
      "text/plain": [
       "     cat_id                                             review  cat\n",
       "0         7  e10 鋁圈 單後紅 夫人 英文 鳳姐 你 今兒 什麼 樣鳳姐 兒到 太太 只管 請 回去 ...    7\n",
       "1         5  取締 酒後駕 車勤務 進行 呼氣質 酒測 時會議 警政署 訂 單取 締酒 後 駕車 作業 程...    5\n",
       "2         4  致伸 縮喇家 在 五台山 跟師 父子 增長 老學會 說 因緣 經驗 你 可將 女兒 長 了 ...    4\n",
       "3         1  寄 之 盲校 被叫 姊親 自去 接 又 叫 我 先 回公館裡 去 知道 我 就 先回去 了 ...    1\n",
       "4         3  關於難 辭 其者 自身 也 為 孫權 所 砂石 半年 的 攻防 戰中數 中景 不 派兵 網雲...    3\n",
       "..      ...                                                ...  ...\n",
       "924       3  10.28 天安 門 事件 2013 年 10 月 28 日 12   10   05 分 ...    3\n",
       "925       3  不同 地方 對滅 火器 的 分類 稍 有 不同 但 基本上 都 是 按照 火 的 種類 分為...    3\n",
       "926       2  董卓 時常 使 人 探 聽 是 日 獲得此 詩來 成 董卓 著樂 願望 作師 沙織 有名 1...    2\n",
       "927       3  台灣 雨量 豐沛 大小 河川 1 部長 度 超過 100 公里 有 7 條一試 分別 是 濁...    3\n",
       "928       3  天安 門 事件 是 指 在 不同 時期 發生 在 中國 北京 天安 門廣場 的 政治 事件 ...    3\n",
       "\n",
       "[929 rows x 3 columns]"
      ]
     },
     "execution_count": 3,
     "metadata": {},
     "output_type": "execute_result"
    }
   ],
   "source": [
    "df=pd.DataFrame()\n",
    "df['cat_id']=df1\n",
    "df['review']=corpus\n",
    "df['cat']=df1\n",
    "df"
   ]
  },
  {
   "cell_type": "code",
   "execution_count": 4,
   "metadata": {},
   "outputs": [],
   "source": [
    "cat_id_df=pd.DataFrame()\n",
    "cat_id_df['cat']=df1\n",
    "cat_id_df['cat_id']=df1"
   ]
  },
  {
   "cell_type": "markdown",
   "metadata": {},
   "source": [
    "# stopword、remove_punctuation\n",
    "停用詞、詞根去除"
   ]
  },
  {
   "cell_type": "code",
   "execution_count": 5,
   "metadata": {},
   "outputs": [
    {
     "data": {
      "text/html": [
       "<div>\n",
       "<style scoped>\n",
       "    .dataframe tbody tr th:only-of-type {\n",
       "        vertical-align: middle;\n",
       "    }\n",
       "\n",
       "    .dataframe tbody tr th {\n",
       "        vertical-align: top;\n",
       "    }\n",
       "\n",
       "    .dataframe thead th {\n",
       "        text-align: right;\n",
       "    }\n",
       "</style>\n",
       "<table border=\"1\" class=\"dataframe\">\n",
       "  <thead>\n",
       "    <tr style=\"text-align: right;\">\n",
       "      <th></th>\n",
       "      <th>cat_id</th>\n",
       "      <th>review</th>\n",
       "      <th>cat</th>\n",
       "      <th>clean_review</th>\n",
       "    </tr>\n",
       "  </thead>\n",
       "  <tbody>\n",
       "    <tr>\n",
       "      <th>618</th>\n",
       "      <td>1</td>\n",
       "      <td>真是 的 哪裡 做 的 他 找 你曉得 他 到 哪裡 去 了 他 帶 了 銀子 一直 進金 ...</td>\n",
       "      <td>1</td>\n",
       "      <td>真是的哪裡做的他找你曉得他到哪裡去了他帶了銀子一直進金平台的就君上一個大花樣的到元加上一個2...</td>\n",
       "    </tr>\n",
       "    <tr>\n",
       "      <th>679</th>\n",
       "      <td>1</td>\n",
       "      <td>還見 的 人 而 你 是 我 自家 親親 人掛 上 了 一個 名字 他 總得 要 分給 你 ...</td>\n",
       "      <td>1</td>\n",
       "      <td>還見的人而你是我自家親親人掛上了一個名字他總得要分給你一點好處還有你書其名下應得的薪水大約出...</td>\n",
       "    </tr>\n",
       "    <tr>\n",
       "      <th>518</th>\n",
       "      <td>0</td>\n",
       "      <td>讀書人 的 事能 算 偷 嗎 接連 便是 難 懂 的 話 什麼 君子 固窮 什麼 者 乎 之...</td>\n",
       "      <td>0</td>\n",
       "      <td>讀書人的事能算偷嗎接連便是難懂的話什麼君子固窮什麼者乎之類引得眾人都哄笑起來店內外充滿了快活的空氣</td>\n",
       "    </tr>\n",
       "    <tr>\n",
       "      <th>147</th>\n",
       "      <td>2</td>\n",
       "      <td>可破 的 劉備 然後再 打 呂布 徐州 便 可 到手 語是 元素 公升 策改 發兵 攻打 劉...</td>\n",
       "      <td>2</td>\n",
       "      <td>可破的劉備然後再打呂布徐州便可到手語是元素公升策改發兵攻打劉備呂布將人數的大將g0和劉備請只...</td>\n",
       "    </tr>\n",
       "    <tr>\n",
       "      <th>896</th>\n",
       "      <td>5</td>\n",
       "      <td>陸委會 主委 張小月 11 號在 年 終記者 會 上集 集 2017 年 工作 重點 時空裂...</td>\n",
       "      <td>5</td>\n",
       "      <td>陸委會主委張小月11號在年終記者會上集集2017年工作重點時空裂出神桌國內外情事研議落實兩岸...</td>\n",
       "    </tr>\n",
       "    <tr>\n",
       "      <th>904</th>\n",
       "      <td>5</td>\n",
       "      <td>蒙古 兵役 義務 與 職涯 發展 另外 行政院 核定 至 明年 起開放 辦理 83 年次 以...</td>\n",
       "      <td>5</td>\n",
       "      <td>蒙古兵役義務與職涯發展另外行政院核定至明年起開放辦理83年次以後出生常備役體位役男服研發及產...</td>\n",
       "    </tr>\n",
       "    <tr>\n",
       "      <th>117</th>\n",
       "      <td>4</td>\n",
       "      <td>葡萄 王 41 中 的 影子 盾 騎 改念 把 螢子 掏出 來 還有 書信 一封 裡吃 也 ...</td>\n",
       "      <td>4</td>\n",
       "      <td>葡萄王41中的影子盾騎改念把螢子掏出來還有書信一封裡吃也是得幾個字打開書信一看卻是強人給史靜...</td>\n",
       "    </tr>\n",
       "    <tr>\n",
       "      <th>750</th>\n",
       "      <td>2</td>\n",
       "      <td>蟑螂 等 聽 說 外地 的 冰來 到 便 先下手 太 50 名 刀斧手 埋伏 在 長 樂 宮...</td>\n",
       "      <td>2</td>\n",
       "      <td>蟑螂等聽說外地的冰來到便先下手太50名刀斧手埋伏在長樂宮佳德門內讓何太后朝和親進攻何太后不知世紀</td>\n",
       "    </tr>\n",
       "    <tr>\n",
       "      <th>560</th>\n",
       "      <td>0</td>\n",
       "      <td>好貴外 站 著 熱熱 的 喝 了 休息 一堂 很多 花 英文 便 可 買 一點 鹽 竹筍 或...</td>\n",
       "      <td>0</td>\n",
       "      <td>好貴外站著熱熱的喝了休息一堂很多花英文便可買一點鹽竹筍或者茴香豆坐下酒誤了如果出道時給文那就...</td>\n",
       "    </tr>\n",
       "    <tr>\n",
       "      <th>595</th>\n",
       "      <td>4</td>\n",
       "      <td>這天 少華山 的 三個頭 領意 是 諸佛 說華因 現出 3000 觀賞 錢 捉拿 我們 我們...</td>\n",
       "      <td>4</td>\n",
       "      <td>這天少華山的三個頭領意是諸佛說華因現出3000觀賞錢捉拿我們我們要多備些量</td>\n",
       "    </tr>\n",
       "  </tbody>\n",
       "</table>\n",
       "</div>"
      ],
      "text/plain": [
       "     cat_id                                             review  cat  \\\n",
       "618       1  真是 的 哪裡 做 的 他 找 你曉得 他 到 哪裡 去 了 他 帶 了 銀子 一直 進金 ...    1   \n",
       "679       1  還見 的 人 而 你 是 我 自家 親親 人掛 上 了 一個 名字 他 總得 要 分給 你 ...    1   \n",
       "518       0  讀書人 的 事能 算 偷 嗎 接連 便是 難 懂 的 話 什麼 君子 固窮 什麼 者 乎 之...    0   \n",
       "147       2  可破 的 劉備 然後再 打 呂布 徐州 便 可 到手 語是 元素 公升 策改 發兵 攻打 劉...    2   \n",
       "896       5  陸委會 主委 張小月 11 號在 年 終記者 會 上集 集 2017 年 工作 重點 時空裂...    5   \n",
       "904       5  蒙古 兵役 義務 與 職涯 發展 另外 行政院 核定 至 明年 起開放 辦理 83 年次 以...    5   \n",
       "117       4  葡萄 王 41 中 的 影子 盾 騎 改念 把 螢子 掏出 來 還有 書信 一封 裡吃 也 ...    4   \n",
       "750       2  蟑螂 等 聽 說 外地 的 冰來 到 便 先下手 太 50 名 刀斧手 埋伏 在 長 樂 宮...    2   \n",
       "560       0  好貴外 站 著 熱熱 的 喝 了 休息 一堂 很多 花 英文 便 可 買 一點 鹽 竹筍 或...    0   \n",
       "595       4  這天 少華山 的 三個頭 領意 是 諸佛 說華因 現出 3000 觀賞 錢 捉拿 我們 我們...    4   \n",
       "\n",
       "                                          clean_review  \n",
       "618  真是的哪裡做的他找你曉得他到哪裡去了他帶了銀子一直進金平台的就君上一個大花樣的到元加上一個2...  \n",
       "679  還見的人而你是我自家親親人掛上了一個名字他總得要分給你一點好處還有你書其名下應得的薪水大約出...  \n",
       "518  讀書人的事能算偷嗎接連便是難懂的話什麼君子固窮什麼者乎之類引得眾人都哄笑起來店內外充滿了快活的空氣  \n",
       "147  可破的劉備然後再打呂布徐州便可到手語是元素公升策改發兵攻打劉備呂布將人數的大將g0和劉備請只...  \n",
       "896  陸委會主委張小月11號在年終記者會上集集2017年工作重點時空裂出神桌國內外情事研議落實兩岸...  \n",
       "904  蒙古兵役義務與職涯發展另外行政院核定至明年起開放辦理83年次以後出生常備役體位役男服研發及產...  \n",
       "117  葡萄王41中的影子盾騎改念把螢子掏出來還有書信一封裡吃也是得幾個字打開書信一看卻是強人給史靜...  \n",
       "750   蟑螂等聽說外地的冰來到便先下手太50名刀斧手埋伏在長樂宮佳德門內讓何太后朝和親進攻何太后不知世紀  \n",
       "560  好貴外站著熱熱的喝了休息一堂很多花英文便可買一點鹽竹筍或者茴香豆坐下酒誤了如果出道時給文那就...  \n",
       "595              這天少華山的三個頭領意是諸佛說華因現出3000觀賞錢捉拿我們我們要多備些量  "
      ]
     },
     "execution_count": 5,
     "metadata": {},
     "output_type": "execute_result"
    }
   ],
   "source": [
    "\n",
    "def remove_punctuation(line):\n",
    "    line = str(line)\n",
    "    if line.strip()=='':\n",
    "        return ''\n",
    "    rule = re.compile(u\"[^a-zA-Z0-9\\u4E00-\\u9FA5]\")\n",
    "    line = rule.sub('',line)\n",
    "    return line\n",
    " \n",
    "def stopwordslist(filepath):  \n",
    "    stopwords = [line.strip() for line in open(filepath, 'r', encoding='utf-8').readlines()]  \n",
    "    return stopwords  \n",
    " \n",
    "#加载停用词\n",
    "stopwords = stopwordslist(r\"C:\\Users\\Cai\\ML04\\chineseStopWords.txt\")\n",
    "\n",
    "\n",
    "df['clean_review'] = df['review'].apply(remove_punctuation)\n",
    "df.sample(10)"
   ]
  },
  {
   "cell_type": "code",
   "execution_count": 6,
   "metadata": {},
   "outputs": [
    {
     "data": {
      "text/html": [
       "<div>\n",
       "<style scoped>\n",
       "    .dataframe tbody tr th:only-of-type {\n",
       "        vertical-align: middle;\n",
       "    }\n",
       "\n",
       "    .dataframe tbody tr th {\n",
       "        vertical-align: top;\n",
       "    }\n",
       "\n",
       "    .dataframe thead th {\n",
       "        text-align: right;\n",
       "    }\n",
       "</style>\n",
       "<table border=\"1\" class=\"dataframe\">\n",
       "  <thead>\n",
       "    <tr style=\"text-align: right;\">\n",
       "      <th></th>\n",
       "      <th>cat_id</th>\n",
       "      <th>review</th>\n",
       "      <th>cat</th>\n",
       "      <th>clean_review</th>\n",
       "      <th>cut_review</th>\n",
       "    </tr>\n",
       "  </thead>\n",
       "  <tbody>\n",
       "    <tr>\n",
       "      <th>0</th>\n",
       "      <td>7</td>\n",
       "      <td>e10 鋁圈 單後紅 夫人 英文 鳳姐 你 今兒 什麼 樣鳳姐 兒到 太太 只管 請 回去 ...</td>\n",
       "      <td>7</td>\n",
       "      <td>e10鋁圈單後紅夫人英文鳳姐你今兒什麼樣鳳姐兒到太太只管請回去我需得先理出一個頭緒來才回去得...</td>\n",
       "      <td>e10 鋁圈 單後紅 夫人 英文 鳳姐 今兒 什麼 樣鳳姐 兒到 太太 只管 請 回去 需得...</td>\n",
       "    </tr>\n",
       "    <tr>\n",
       "      <th>1</th>\n",
       "      <td>5</td>\n",
       "      <td>取締 酒後駕 車勤務 進行 呼氣質 酒測 時會議 警政署 訂 單取 締酒 後 駕車 作業 程...</td>\n",
       "      <td>5</td>\n",
       "      <td>取締酒後駕車勤務進行呼氣質酒測時會議警政署訂單取締酒後駕車作業程序規定確認受測者英九結束後食...</td>\n",
       "      <td>取締 酒後駕 車勤務 進行 呼氣質 酒測 時會議 警政署 訂 單取 締酒 後 駕車 作業 程...</td>\n",
       "    </tr>\n",
       "    <tr>\n",
       "      <th>2</th>\n",
       "      <td>4</td>\n",
       "      <td>致伸 縮喇家 在 五台山 跟師 父子 增長 老學會 說 因緣 經驗 你 可將 女兒 長 了 ...</td>\n",
       "      <td>4</td>\n",
       "      <td>致伸縮喇家在五台山跟師父子增長老學會說因緣經驗你可將女兒長了我到你女兒房中說那二大王回心轉意...</td>\n",
       "      <td>致伸 縮喇家 五台山 跟師 父子 增長 老學會 說 因緣 經驗 可將 女兒 長 女兒 房中 ...</td>\n",
       "    </tr>\n",
       "    <tr>\n",
       "      <th>3</th>\n",
       "      <td>1</td>\n",
       "      <td>寄 之 盲校 被叫 姊親 自去 接 又 叫 我 先 回公館裡 去 知道 我 就 先回去 了 ...</td>\n",
       "      <td>1</td>\n",
       "      <td>寄之盲校被叫姊親自去接又叫我先回公館裡去知道我就先回去了到了下午記之陪著他老太太來了記之夫人...</td>\n",
       "      <td>寄 盲校 被叫 姊親 自去 接 先 回公館裡 知道 先回去 下午 記之陪 著 老太太 來 記...</td>\n",
       "    </tr>\n",
       "    <tr>\n",
       "      <th>4</th>\n",
       "      <td>3</td>\n",
       "      <td>關於難 辭 其者 自身 也 為 孫權 所 砂石 半年 的 攻防 戰中數 中景 不 派兵 網雲...</td>\n",
       "      <td>3</td>\n",
       "      <td>關於難辭其者自身也為孫權所砂石半年的攻防戰中數中景不派兵網雲任起不滅認為諸葛亮音關與破壞農中...</td>\n",
       "      <td>關於難 辭 其者 為 孫權 砂石 半年 攻防 戰中數 中景 派兵 網雲任 不滅 認為 諸葛亮...</td>\n",
       "    </tr>\n",
       "  </tbody>\n",
       "</table>\n",
       "</div>"
      ],
      "text/plain": [
       "   cat_id                                             review  cat  \\\n",
       "0       7  e10 鋁圈 單後紅 夫人 英文 鳳姐 你 今兒 什麼 樣鳳姐 兒到 太太 只管 請 回去 ...    7   \n",
       "1       5  取締 酒後駕 車勤務 進行 呼氣質 酒測 時會議 警政署 訂 單取 締酒 後 駕車 作業 程...    5   \n",
       "2       4  致伸 縮喇家 在 五台山 跟師 父子 增長 老學會 說 因緣 經驗 你 可將 女兒 長 了 ...    4   \n",
       "3       1  寄 之 盲校 被叫 姊親 自去 接 又 叫 我 先 回公館裡 去 知道 我 就 先回去 了 ...    1   \n",
       "4       3  關於難 辭 其者 自身 也 為 孫權 所 砂石 半年 的 攻防 戰中數 中景 不 派兵 網雲...    3   \n",
       "\n",
       "                                        clean_review  \\\n",
       "0  e10鋁圈單後紅夫人英文鳳姐你今兒什麼樣鳳姐兒到太太只管請回去我需得先理出一個頭緒來才回去得...   \n",
       "1  取締酒後駕車勤務進行呼氣質酒測時會議警政署訂單取締酒後駕車作業程序規定確認受測者英九結束後食...   \n",
       "2  致伸縮喇家在五台山跟師父子增長老學會說因緣經驗你可將女兒長了我到你女兒房中說那二大王回心轉意...   \n",
       "3  寄之盲校被叫姊親自去接又叫我先回公館裡去知道我就先回去了到了下午記之陪著他老太太來了記之夫人...   \n",
       "4  關於難辭其者自身也為孫權所砂石半年的攻防戰中數中景不派兵網雲任起不滅認為諸葛亮音關與破壞農中...   \n",
       "\n",
       "                                          cut_review  \n",
       "0  e10 鋁圈 單後紅 夫人 英文 鳳姐 今兒 什麼 樣鳳姐 兒到 太太 只管 請 回去 需得...  \n",
       "1  取締 酒後駕 車勤務 進行 呼氣質 酒測 時會議 警政署 訂 單取 締酒 後 駕車 作業 程...  \n",
       "2  致伸 縮喇家 五台山 跟師 父子 增長 老學會 說 因緣 經驗 可將 女兒 長 女兒 房中 ...  \n",
       "3  寄 盲校 被叫 姊親 自去 接 先 回公館裡 知道 先回去 下午 記之陪 著 老太太 來 記...  \n",
       "4  關於難 辭 其者 為 孫權 砂石 半年 攻防 戰中數 中景 派兵 網雲任 不滅 認為 諸葛亮...  "
      ]
     },
     "execution_count": 6,
     "metadata": {},
     "output_type": "execute_result"
    }
   ],
   "source": [
    "id_to_cat = dict(cat_id_df[['cat_id', 'cat']].values)\n",
    "\n",
    "df['cut_review'] = df['clean_review'].apply(lambda x: \" \".join([w for w in list(jb.cut(x)) if w not in stopwords]))\n",
    "df.head()"
   ]
  },
  {
   "cell_type": "markdown",
   "metadata": {},
   "source": [
    "# tf-idf"
   ]
  },
  {
   "cell_type": "code",
   "execution_count": 7,
   "metadata": {},
   "outputs": [
    {
     "name": "stdout",
     "output_type": "stream",
     "text": [
      "(929, 28601)\n",
      "-----------------------------\n",
      "  (0, 9371)\t0.1512530629684542\n",
      "  (0, 7112)\t0.1512530629684542\n",
      "  (0, 24146)\t0.1512530629684542\n",
      "  (0, 18370)\t0.1512530629684542\n",
      "  (0, 7898)\t0.1512530629684542\n",
      "  (0, 27841)\t0.1512530629684542\n",
      "  (0, 801)\t0.1512530629684542\n",
      "  (0, 4646)\t0.1512530629684542\n",
      "  (0, 27537)\t0.1512530629684542\n",
      "  (0, 7901)\t0.1512530629684542\n",
      "  (0, 6719)\t0.1512530629684542\n",
      "  (0, 9293)\t0.1512530629684542\n",
      "  (0, 4707)\t0.1512530629684542\n",
      "  (0, 16146)\t0.1512530629684542\n",
      "  (0, 3448)\t0.1512530629684542\n",
      "  (0, 3483)\t0.1512530629684542\n",
      "  (0, 28397)\t0.1512530629684542\n",
      "  (0, 22346)\t0.1512530629684542\n",
      "  (0, 9377)\t0.1512530629684542\n",
      "  (0, 7758)\t0.1512530629684542\n",
      "  (0, 26810)\t0.1512530629684542\n",
      "  (0, 562)\t0.1512530629684542\n",
      "  (0, 7111)\t0.1512530629684542\n",
      "  (0, 24145)\t0.1512530629684542\n",
      "  (0, 18365)\t0.12472222514196227\n",
      "  :\t:\n",
      "  (928, 3003)\t0.16732441077249804\n",
      "  (928, 14174)\t0.16732441077249804\n",
      "  (928, 26900)\t0.16732441077249804\n",
      "  (928, 6125)\t0.16732441077249804\n",
      "  (928, 2575)\t0.16732441077249804\n",
      "  (928, 19220)\t0.16732441077249804\n",
      "  (928, 14942)\t0.16732441077249804\n",
      "  (928, 2000)\t0.16732441077249804\n",
      "  (928, 3001)\t0.16732441077249804\n",
      "  (928, 11163)\t0.16732441077249804\n",
      "  (928, 191)\t0.3346488215449961\n",
      "  (928, 3124)\t0.16732441077249804\n",
      "  (928, 23265)\t0.15782513116218266\n",
      "  (928, 6123)\t0.1379745469119273\n",
      "  (928, 9191)\t0.15108528501895926\n",
      "  (928, 9188)\t0.15108528501895926\n",
      "  (928, 26898)\t0.15108528501895926\n",
      "  (928, 2998)\t0.2696923185308409\n",
      "  (928, 9187)\t0.2831720108172877\n",
      "  (928, 25899)\t0.1273853914352175\n",
      "  (928, 14938)\t0.14585745420248622\n",
      "  (928, 1992)\t0.12534687965510505\n",
      "  (928, 14170)\t0.12961832844894738\n",
      "  (928, 2572)\t0.12534687965510505\n",
      "  (928, 19215)\t0.24694326119950794\n"
     ]
    }
   ],
   "source": [
    "from sklearn.feature_extraction.text import TfidfVectorizer\n",
    " \n",
    "tfidf = TfidfVectorizer(norm='l2', ngram_range=(1, 2))\n",
    "features = tfidf.fit_transform(df.cut_review)\n",
    "labels = df.cat_id\n",
    "print(features.shape)\n",
    "print('-----------------------------')\n",
    "print(features)"
   ]
  },
  {
   "cell_type": "code",
   "execution_count": 8,
   "metadata": {},
   "outputs": [],
   "source": [
    "cat_to_id = dict(cat_id_df.values)\n"
   ]
  },
  {
   "cell_type": "markdown",
   "metadata": {},
   "source": [
    "# print 出 各類別高詞頻詞彙"
   ]
  },
  {
   "cell_type": "code",
   "execution_count": 9,
   "metadata": {},
   "outputs": [
    {
     "name": "stdout",
     "output_type": "stream",
     "text": [
      "# '0':\n",
      "  . Most correlated unigrams:\n",
      ". 他們\n",
      "       . 孔乙己\n",
      "  . Most correlated bigrams:\n",
      " . 中日 作者\n",
      ". 東西 似乎\n",
      "# '1':\n",
      "  . Most correlated unigrams:\n",
      ". 知道\n",
      "       . 上海\n",
      "  . Most correlated bigrams:\n",
      " . 因為 未曾\n",
      ". 一個 金戒指\n",
      "# '2':\n",
      "  . Most correlated unigrams:\n",
      ". 曹操\n",
      "       . 劉備\n",
      "  . Most correlated bigrams:\n",
      " . 劉備 劉備\n",
      ". 攻打 徐州\n",
      "# '3':\n",
      "  . Most correlated unigrams:\n",
      ". 事件\n",
      "       . 台灣\n",
      "  . Most correlated bigrams:\n",
      " . 天安 門廣場\n",
      ". 天安 事件\n",
      "# '4':\n",
      "  . Most correlated unigrams:\n",
      ". 高球\n",
      "       . 大王\n",
      "  . Most correlated bigrams:\n",
      " . 小王 太尉\n",
      ". 一封 書信\n",
      "# '5':\n",
      "  . Most correlated unigrams:\n",
      ". 表示\n",
      "       . 報導\n",
      "  . Most correlated bigrams:\n",
      " . 時代 力量\n",
      ". 台北 報導\n",
      "# '6':\n",
      "  . Most correlated unigrams:\n",
      ". 八戒\n",
      "       . 悟空\n",
      "  . Most correlated bigrams:\n",
      " . 兩個 悟空\n",
      ". 八戒 沙僧\n",
      "# '7':\n",
      "  . Most correlated unigrams:\n",
      ". 鳳姐\n",
      "       . 如今\n",
      "  . Most correlated bigrams:\n",
      " . 飲日鏡 一一\n",
      ". 英建發 飲日鏡\n"
     ]
    }
   ],
   "source": [
    "\n",
    "from sklearn.feature_selection import chi2\n",
    "import numpy as np\n",
    " \n",
    "N = 2\n",
    "for cat, cat_id in sorted(cat_to_id.items()):\n",
    "    features_chi2 = chi2(features, labels == cat_id)\n",
    "    indices = np.argsort(features_chi2[0])\n",
    "    feature_names = np.array(tfidf.get_feature_names())[indices]\n",
    "    unigrams = [v for v in feature_names if len(v.split(' ')) == 1]\n",
    "    bigrams = [v for v in feature_names if len(v.split(' ')) == 2]\n",
    "    \n",
    "    print(\"# '{}':\".format(cat))\n",
    "    print(\"  . Most correlated unigrams:\\n. {}\".format('\\n       . '.join(unigrams[-N:])))\n",
    "    print(\"  . Most correlated bigrams:\\n . {}\".format('\\n. '.join(bigrams[-N:])))"
   ]
  },
  {
   "cell_type": "code",
   "execution_count": 10,
   "metadata": {},
   "outputs": [],
   "source": [
    "def myPredict(sec):\n",
    "    format_sec=\" \".join([w for w in list(jb.cut(remove_punctuation(sec))) if w not in stopwords])\n",
    "    pred_cat_id=clf.predict(count_vect.transform([format_sec]))\n",
    "    return id_to_cat[pred_cat_id[0]]\n"
   ]
  },
  {
   "cell_type": "markdown",
   "metadata": {},
   "source": [
    "#  不同分類器去訓練，比較結果"
   ]
  },
  {
   "cell_type": "code",
   "execution_count": 133,
   "metadata": {},
   "outputs": [],
   "source": [
    "from xgboost.sklearn import XGBClassifier\n",
    "\n",
    "clfs = XGBClassifier(\n",
    "        #樹的個數\n",
    "        n_estimators=100,\n",
    "        # 如同學習率\n",
    "        learning_rate= 0.3, \n",
    "        # 構建樹的深度，越大越容易過擬合    \n",
    "        max_depth=20, \n",
    "        # 隨機取樣訓練樣本 訓練例項的子取樣比\n",
    "        subsample=1, \n",
    "        # 用於控制是否後剪枝的引數,越大越保守，一般0.1、0.2這樣子\n",
    "        gamma=500,\n",
    "      \n",
    "        # 控制模型複雜度的權重值的L2正則化項引數，引數越大，模型越不容易過擬合。\n",
    "        reg_lambda=1,  \n",
    "        #最大增量步長，我們允許每個樹的權重估計。\n",
    "        max_delta_step=0,\n",
    "        # 生成樹時進行的列取樣 \n",
    "        colsample_bytree=1, \n",
    "\n",
    "        # 這個引數預設是 1，是每個葉子裡面 h 的和至少是多少，對正負樣本不均衡時的 0-1 分類而言\n",
    "        # 假設 h 在 0.01 附近，min_child_weight 為 1 意味著葉子節點中最少需要包含 100 個樣本。\n",
    "        #這個引數非常影響結果，控制葉子節點中二階導的和的最小值，該引數值越小，越容易 overfitting。\n",
    "        min_child_weight=1, \n",
    "\n",
    "        #隨機種子\n",
    "        seed=1000 \n",
    "        \n",
    "        # L1 正則項引數\n",
    "#        reg_alpha=0,\n",
    "        \n",
    "        #如果取值大於0的話，在類別樣本不平衡的情況下有助於快速收斂。平衡正負權重\n",
    "        #scale_pos_weight=1,\n",
    "        \n",
    "        #多分類的問題 指定學習任務和相應的學習目標\n",
    "        #objective= 'multi:softmax', \n",
    "        \n",
    "        # 類別數，多分類與 multisoftmax 並用\n",
    "        #num_class=10,\n",
    "        \n",
    "        # 設定成1則沒有執行資訊輸出，最好是設定為0.是否在執行升級時列印訊息。\n",
    "#        silent=0 ,\n",
    "        # cpu 執行緒數 預設最大\n",
    "#        nthread=4,\n",
    "    \n",
    "        #eval_metric= 'auc'\n",
    ")\n"
   ]
  },
  {
   "cell_type": "code",
   "execution_count": 247,
   "metadata": {},
   "outputs": [],
   "source": [
    "\n",
    "from sklearn.model_selection import train_test_split\n",
    "from sklearn.feature_extraction.text import CountVectorizer\n",
    "from sklearn.feature_extraction.text import TfidfTransformer\n",
    "from sklearn.naive_bayes import MultinomialNB\n",
    " \n",
    "X_train, X_test, y_train, y_test = train_test_split(df['cut_review'], df['cat_id'], random_state = 0)\n",
    "\n",
    "count_vect = CountVectorizer()\n",
    "\n",
    "X_train_counts = count_vect.fit_transform(X_train)\n",
    " \n",
    "tfidf_transformer = TfidfTransformer()\n",
    "X_train_tfidf = tfidf_transformer.fit_transform(X_train_counts)\n",
    " \n",
    "clf = KNeighborsClassifier(n_neighbors=5, weights='uniform', algorithm='auto', leaf_size=30, p=2, metric='minkowski', metric_params=None, n_jobs=None).fit(X_train_tfidf, y_train)\n"
   ]
  },
  {
   "cell_type": "code",
   "execution_count": null,
   "metadata": {},
   "outputs": [],
   "source": []
  },
  {
   "cell_type": "code",
   "execution_count": 248,
   "metadata": {},
   "outputs": [],
   "source": [
    "#ML\n",
    "from sklearn.linear_model import LogisticRegression\n",
    "from sklearn.ensemble import RandomForestClassifier\n",
    "from sklearn.naive_bayes import MultinomialNB\n",
    "from sklearn.svm import LinearSVC\n",
    "from sklearn.neighbors import KNeighborsClassifier  \n",
    "from sklearn.ensemble import RandomForestClassifier\n",
    "from keras.wrappers.scikit_learn import KerasClassifier\n",
    "from sklearn.ensemble import RandomForestClassifier\n",
    "\n",
    "params = { 'max_depth': 6, 'objective': 'multi:softmax', 'num_class': 3 }\n",
    "#---DL\n",
    "from sklearn import decomposition, ensemble\n",
    "from sklearn import model_selection, preprocessing, linear_model, naive_bayes, metrics, svm\n",
    "\n",
    "\n",
    "\n",
    "models = [\n",
    "    RandomForestClassifier(n_estimators=200, max_depth=3, random_state=0),\n",
    "    \n",
    "    LinearSVC(C=2.0,multi_class ='ovr'),\n",
    "    MultinomialNB(),\n",
    "    LogisticRegression(random_state=0),\n",
    "    KNeighborsClassifier(n_neighbors=5, weights='uniform', algorithm='auto', leaf_size=30, p=2, metric='minkowski', metric_params=None, n_jobs=None),\n",
    "    RandomForestClassifier(max_depth=5, n_estimators=10, max_features=1),\n",
    "    clfs,\n",
    "    svm.SVC(C=2.0, break_ties=False, cache_size=200, class_weight=None, coef0=0.0,\n",
    "    decision_function_shape='ovr', degree=3, gamma='scale', kernel='linear',\n",
    "    max_iter=-1, probability=True,\n",
    "            shrinking=True,\n",
    "    tol=0.001, verbose=False),\n",
    "    \n",
    "    #(kernel='linear',C=1.5, decision_function_shape = 'ovr'),\n",
    "    RandomForestClassifier(n_estimators=200, max_depth=3, random_state=0),\n",
    "    ]\n",
    "\n",
    "\n"
   ]
  },
  {
   "cell_type": "code",
   "execution_count": 249,
   "metadata": {
    "scrolled": true
   },
   "outputs": [
    {
     "name": "stderr",
     "output_type": "stream",
     "text": [
      "C:\\Users\\Cai\\anaconda3\\lib\\site-packages\\xgboost\\sklearn.py:1146: UserWarning: The use of label encoder in XGBClassifier is deprecated and will be removed in a future release. To remove this warning, do the following: 1) Pass option use_label_encoder=False when constructing XGBClassifier object; and 2) Encode your labels (y) as integers starting with 0, i.e. 0, 1, 2, ..., [num_class - 1].\n",
      "  warnings.warn(label_encoder_deprecation_msg, UserWarning)\n"
     ]
    },
    {
     "name": "stdout",
     "output_type": "stream",
     "text": [
      "[15:21:02] WARNING: C:/Users/Administrator/workspace/xgboost-win64_release_1.4.0/src/learner.cc:1095: Starting in XGBoost 1.3.0, the default evaluation metric used with the objective 'multi:softprob' was changed from 'merror' to 'mlogloss'. Explicitly set eval_metric if you'd like to restore the old behavior.\n",
      "[15:21:05] WARNING: C:/Users/Administrator/workspace/xgboost-win64_release_1.4.0/src/learner.cc:1095: Starting in XGBoost 1.3.0, the default evaluation metric used with the objective 'multi:softprob' was changed from 'merror' to 'mlogloss'. Explicitly set eval_metric if you'd like to restore the old behavior.\n",
      "[15:21:08] WARNING: C:/Users/Administrator/workspace/xgboost-win64_release_1.4.0/src/learner.cc:1095: Starting in XGBoost 1.3.0, the default evaluation metric used with the objective 'multi:softprob' was changed from 'merror' to 'mlogloss'. Explicitly set eval_metric if you'd like to restore the old behavior.\n",
      "[15:21:11] WARNING: C:/Users/Administrator/workspace/xgboost-win64_release_1.4.0/src/learner.cc:1095: Starting in XGBoost 1.3.0, the default evaluation metric used with the objective 'multi:softprob' was changed from 'merror' to 'mlogloss'. Explicitly set eval_metric if you'd like to restore the old behavior.\n",
      "[15:21:14] WARNING: C:/Users/Administrator/workspace/xgboost-win64_release_1.4.0/src/learner.cc:1095: Starting in XGBoost 1.3.0, the default evaluation metric used with the objective 'multi:softprob' was changed from 'merror' to 'mlogloss'. Explicitly set eval_metric if you'd like to restore the old behavior.\n"
     ]
    }
   ],
   "source": [
    "from sklearn.model_selection import cross_val_score\n",
    "\n",
    "CV = 5\n",
    "\n",
    "cv_df = pd.DataFrame(index=range(CV * len(models)))\n",
    "\n",
    "entries = []\n",
    "\n",
    "for model in models:\n",
    "    \n",
    "    model_name = model.__class__.__name__\n",
    "    \n",
    "    accuracies = cross_val_score(model, features, labels, scoring='accuracy', cv=CV)\n",
    "    \n",
    "    for fold_idx, accuracy in enumerate(accuracies):\n",
    "        entries.append((model_name, fold_idx, accuracy))\n",
    "        \n",
    "        \n",
    "        \n",
    "cv_df = pd.DataFrame(entries, columns=['model_name', 'fold_idx', 'accuracy'])"
   ]
  },
  {
   "cell_type": "code",
   "execution_count": 250,
   "metadata": {
    "scrolled": false
   },
   "outputs": [
    {
     "data": {
      "text/plain": [
       "[('RandomForestClassifier', 0, 0.1774193548387097),\n",
       " ('RandomForestClassifier', 1, 0.1774193548387097),\n",
       " ('RandomForestClassifier', 2, 0.1989247311827957),\n",
       " ('RandomForestClassifier', 3, 0.1827956989247312),\n",
       " ('RandomForestClassifier', 4, 0.17297297297297298),\n",
       " ('LinearSVC', 0, 0.6989247311827957),\n",
       " ('LinearSVC', 1, 0.7688172043010753),\n",
       " ('LinearSVC', 2, 0.7634408602150538),\n",
       " ('LinearSVC', 3, 0.7204301075268817),\n",
       " ('LinearSVC', 4, 0.6810810810810811),\n",
       " ('MultinomialNB', 0, 0.3709677419354839),\n",
       " ('MultinomialNB', 1, 0.3763440860215054),\n",
       " ('MultinomialNB', 2, 0.3602150537634409),\n",
       " ('MultinomialNB', 3, 0.3817204301075269),\n",
       " ('MultinomialNB', 4, 0.3891891891891892),\n",
       " ('LogisticRegression', 0, 0.3924731182795699),\n",
       " ('LogisticRegression', 1, 0.3870967741935484),\n",
       " ('LogisticRegression', 2, 0.4032258064516129),\n",
       " ('LogisticRegression', 3, 0.3763440860215054),\n",
       " ('LogisticRegression', 4, 0.3675675675675676),\n",
       " ('KNeighborsClassifier', 0, 0.6451612903225806),\n",
       " ('KNeighborsClassifier', 1, 0.7043010752688172),\n",
       " ('KNeighborsClassifier', 2, 0.6559139784946236),\n",
       " ('KNeighborsClassifier', 3, 0.6720430107526881),\n",
       " ('KNeighborsClassifier', 4, 0.6378378378378379),\n",
       " ('RandomForestClassifier', 0, 0.1774193548387097),\n",
       " ('RandomForestClassifier', 1, 0.1827956989247312),\n",
       " ('RandomForestClassifier', 2, 0.16666666666666666),\n",
       " ('RandomForestClassifier', 3, 0.16666666666666666),\n",
       " ('RandomForestClassifier', 4, 0.16756756756756758),\n",
       " ('XGBClassifier', 0, 0.17204301075268819),\n",
       " ('XGBClassifier', 1, 0.16666666666666666),\n",
       " ('XGBClassifier', 2, 0.16666666666666666),\n",
       " ('XGBClassifier', 3, 0.16666666666666666),\n",
       " ('XGBClassifier', 4, 0.16756756756756758),\n",
       " ('SVC', 0, 0.6075268817204301),\n",
       " ('SVC', 1, 0.6774193548387096),\n",
       " ('SVC', 2, 0.6236559139784946),\n",
       " ('SVC', 3, 0.6451612903225806),\n",
       " ('SVC', 4, 0.6162162162162163),\n",
       " ('RandomForestClassifier', 0, 0.1774193548387097),\n",
       " ('RandomForestClassifier', 1, 0.1774193548387097),\n",
       " ('RandomForestClassifier', 2, 0.1989247311827957),\n",
       " ('RandomForestClassifier', 3, 0.1827956989247312),\n",
       " ('RandomForestClassifier', 4, 0.17297297297297298)]"
      ]
     },
     "execution_count": 250,
     "metadata": {},
     "output_type": "execute_result"
    }
   ],
   "source": [
    "entries"
   ]
  },
  {
   "cell_type": "markdown",
   "metadata": {},
   "source": [
    "# 比較各種分類器結果"
   ]
  },
  {
   "cell_type": "code",
   "execution_count": 251,
   "metadata": {},
   "outputs": [
    {
     "data": {
      "image/png": "[encoded data removed]",
      "text/plain": [
       "<Figure size 1080x720 with 1 Axes>"
      ]
     },
     "metadata": {
      "needs_background": "light"
     },
     "output_type": "display_data"
    }
   ],
   "source": [
    "\n",
    "import seaborn as sns\n",
    "plt.figure(figsize=(15,10))\n",
    "sns.boxplot(x='model_name', y='accuracy', data=cv_df)\n",
    "sns.stripplot(x='model_name', y='accuracy', data=cv_df, \n",
    "              size=8, jitter=True, edgecolor=\"gray\", linewidth=2)\n",
    "plt.show()\n"
   ]
  },
  {
   "cell_type": "markdown",
   "metadata": {},
   "source": [
    "# 各種分類器準確度"
   ]
  },
  {
   "cell_type": "code",
   "execution_count": 252,
   "metadata": {},
   "outputs": [
    {
     "data": {
      "text/plain": [
       "model_name\n",
       "KNeighborsClassifier      0.663051\n",
       "LinearSVC                 0.726539\n",
       "LogisticRegression        0.385341\n",
       "MultinomialNB             0.375687\n",
       "RandomForestClassifier    0.178679\n",
       "SVC                       0.633996\n",
       "XGBClassifier             0.167922\n",
       "Name: accuracy, dtype: float64"
      ]
     },
     "execution_count": 252,
     "metadata": {},
     "output_type": "execute_result"
    }
   ],
   "source": [
    "cv_df.groupby('model_name').accuracy.mean()\n"
   ]
  },
  {
   "cell_type": "code",
   "execution_count": 253,
   "metadata": {},
   "outputs": [
    {
     "data": {
      "text/plain": [
       "KNeighborsClassifier()"
      ]
     },
     "execution_count": 253,
     "metadata": {},
     "output_type": "execute_result"
    }
   ],
   "source": [
    "clf.fit(X_train_tfidf, y_train)\n"
   ]
  },
  {
   "cell_type": "code",
   "execution_count": 254,
   "metadata": {},
   "outputs": [],
   "source": [
    "zzz1=pd.read_csv('test_ml.csv')\n",
    "zzz=zzz1['0']\n"
   ]
  },
  {
   "cell_type": "markdown",
   "metadata": {},
   "source": [
    "# 預測test"
   ]
  },
  {
   "cell_type": "code",
   "execution_count": 255,
   "metadata": {},
   "outputs": [],
   "source": [
    "def myPredict(sec):\n",
    "    format_sec=\" \".join([w for w in list(jb.cut(remove_punctuation(sec))) if w not in stopwords])\n",
    "    pred_cat_id=clf.predict(count_vect.transform([format_sec]))\n",
    "    return id_to_cat[pred_cat_id[0]]\n"
   ]
  },
  {
   "cell_type": "code",
   "execution_count": 256,
   "metadata": {},
   "outputs": [],
   "source": [
    "zxc=[]\n",
    "for i in range(len(zzz)):\n",
    "    zxc.append(myPredict(zzz[i]))"
   ]
  },
  {
   "cell_type": "markdown",
   "metadata": {},
   "source": [
    "# 輸出"
   ]
  },
  {
   "cell_type": "code",
   "execution_count": 258,
   "metadata": {},
   "outputs": [],
   "source": [
    "#讀取之前分數最高，分類器的結果，比較不同數值欄位資料(目前0.65   代表    若訓練有(350以上||200)比不一樣代表失真)\n",
    "vvv=pd.read_csv('ccc.csv')\n",
    "vvv=vvv['label']"
   ]
  },
  {
   "cell_type": "code",
   "execution_count": 259,
   "metadata": {},
   "outputs": [
    {
     "data": {
      "text/plain": [
       "822"
      ]
     },
     "execution_count": 259,
     "metadata": {},
     "output_type": "execute_result"
    }
   ],
   "source": [
    "len(vvv)"
   ]
  },
  {
   "cell_type": "code",
   "execution_count": 260,
   "metadata": {},
   "outputs": [],
   "source": [
    "c=0\n",
    "for i in range(len(zxc)):\n",
    "    if(vvv[i]-zxc[i]!=0):\n",
    "        c=c+1"
   ]
  },
  {
   "cell_type": "code",
   "execution_count": 261,
   "metadata": {},
   "outputs": [
    {
     "data": {
      "text/plain": [
       "287"
      ]
     },
     "execution_count": 261,
     "metadata": {},
     "output_type": "execute_result"
    }
   ],
   "source": [
    "c"
   ]
  },
  {
   "cell_type": "code",
   "execution_count": null,
   "metadata": {},
   "outputs": [],
   "source": []
  },
  {
   "cell_type": "code",
   "execution_count": null,
   "metadata": {},
   "outputs": [],
   "source": []
  },
  {
   "cell_type": "code",
   "execution_count": null,
   "metadata": {},
   "outputs": [],
   "source": []
  },
  {
   "cell_type": "code",
   "execution_count": null,
   "metadata": {},
   "outputs": [],
   "source": []
  },
  {
   "cell_type": "code",
   "execution_count": null,
   "metadata": {},
   "outputs": [],
   "source": []
  },
  {
   "cell_type": "code",
   "execution_count": null,
   "metadata": {},
   "outputs": [],
   "source": []
  }
 ],
 "metadata": {
  "kernelspec": {
   "display_name": "Python 3",
   "language": "python",
   "name": "python3"
  },
  "language_info": {
   "codemirror_mode": {
    "name": "ipython",
    "version": 3
   },
   "file_extension": ".py",
   "mimetype": "text/x-python",
   "name": "python",
   "nbconvert_exporter": "python",
   "pygments_lexer": "ipython3",
   "version": "3.8.5"
  }
 },
 "nbformat": 4,
 "nbformat_minor": 4
}
